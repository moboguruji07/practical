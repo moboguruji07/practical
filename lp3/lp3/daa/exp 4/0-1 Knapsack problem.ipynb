{
 "cells": [
  {
   "cell_type": "code",
   "execution_count": 2,
   "id": "83a24e08",
   "metadata": {},
   "outputs": [
    {
     "name": "stdout",
     "output_type": "stream",
     "text": [
      "220\n"
     ]
    }
   ],
   "source": [
    "# A naive recursive implementation\n",
    "# of 0-1 Knapsack Problem\n",
    "\n",
    "# Returns the maximum value that\n",
    "# can be put in a knapsack of\n",
    "# capacity W\n",
    "\n",
    "\n",
    "def knapSack(W, wt, val, n):\n",
    "\n",
    "\t# Base Case\n",
    "\tif n == 0 or W == 0:\n",
    "\t\treturn 0\n",
    "\n",
    "\t# If weight of the nth item is\n",
    "\t# more than Knapsack of capacity W,\n",
    "\t# then this item cannot be included\n",
    "\t# in the optimal solution\n",
    "\tif (wt[n-1] > W):\n",
    "\t\treturn knapSack(W, wt, val, n-1)\n",
    "\n",
    "\t# return the maximum of two cases:\n",
    "\t# (1) nth item included\n",
    "\t# (2) not included\n",
    "\telse:\n",
    "\t\treturn max(\n",
    "\t\t\tval[n-1] + knapSack(\n",
    "\t\t\t\tW-wt[n-1], wt, val, n-1),\n",
    "\t\t\tknapSack(W, wt, val, n-1))\n",
    "\n",
    "# end of function knapSack\n",
    "\n",
    "\n",
    "#Driver Code\n",
    "val = [60, 100, 120]\n",
    "wt = [10, 20, 30]\n",
    "W = 50\n",
    "n = len(val)\n",
    "print(knapSack(W, wt, val, n))\n",
    "\n"
   ]
  },
  {
   "cell_type": "code",
   "execution_count": null,
   "id": "2386af0d",
   "metadata": {},
   "outputs": [],
   "source": []
  }
 ],
 "metadata": {
  "kernelspec": {
   "display_name": "Python 3 (ipykernel)",
   "language": "python",
   "name": "python3"
  },
  "language_info": {
   "codemirror_mode": {
    "name": "ipython",
    "version": 3
   },
   "file_extension": ".py",
   "mimetype": "text/x-python",
   "name": "python",
   "nbconvert_exporter": "python",
   "pygments_lexer": "ipython3",
   "version": "3.9.7"
  }
 },
 "nbformat": 4,
 "nbformat_minor": 5
}
