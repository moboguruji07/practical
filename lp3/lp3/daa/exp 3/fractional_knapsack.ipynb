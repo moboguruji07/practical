{
 "cells": [
  {
   "cell_type": "code",
   "execution_count": 3,
   "id": "2720d489",
   "metadata": {},
   "outputs": [
    {
     "name": "stdout",
     "output_type": "stream",
     "text": [
      "240.0\n"
     ]
    }
   ],
   "source": [
    "class Item: \n",
    "    def __init__(self, value, weight): \n",
    "        self.value = value \n",
    "        self.weight = weight \n",
    "def fractionalKnapsack(W, arr): \n",
    "    # Sorting Item on basis of ratio \n",
    "    arr.sort(key=lambda x: (x.value/x.weight), reverse=True) \n",
    "    # Result(value in Knapsack) \n",
    "    finalvalue = 0.0 \n",
    "    # Looping through all Items \n",
    "    for item in arr: \n",
    "        # If adding Item won't overflow, \n",
    "        # add it completely \n",
    "        if item.weight <= W: \n",
    "            W -= item.weight \n",
    "            finalvalue += item.value \n",
    "            # If we can't add current Item, \n",
    "            # add fractional part of it \n",
    "        else: \n",
    "            finalvalue += item.value * W / item.weight \n",
    "            break \n",
    "    # Returning final value\n",
    "    return finalvalue\n",
    "\n",
    "# Driver Code\n",
    "if __name__ == \"__main__\": \n",
    "    W = 50 \n",
    "    arr = [Item(60, 10), Item(100, 20), Item(120, 30)] \n",
    "    # Function call \n",
    "    max_val = fractionalKnapsack(W, arr) \n",
    "    print(max_val)"
   ]
  },
  {
   "cell_type": "code",
   "execution_count": null,
   "id": "ec4b8fc7",
   "metadata": {},
   "outputs": [],
   "source": []
  }
 ],
 "metadata": {
  "kernelspec": {
   "display_name": "Python 3 (ipykernel)",
   "language": "python",
   "name": "python3"
  },
  "language_info": {
   "codemirror_mode": {
    "name": "ipython",
    "version": 3
   },
   "file_extension": ".py",
   "mimetype": "text/x-python",
   "name": "python",
   "nbconvert_exporter": "python",
   "pygments_lexer": "ipython3",
   "version": "3.9.7"
  }
 },
 "nbformat": 4,
 "nbformat_minor": 5
}
